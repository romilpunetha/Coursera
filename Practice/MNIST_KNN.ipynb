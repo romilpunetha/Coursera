{
 "cells": [
  {
   "cell_type": "code",
   "execution_count": 1,
   "metadata": {},
   "outputs": [],
   "source": [
    "from sklearn.datasets import load_digits"
   ]
  },
  {
   "cell_type": "code",
   "execution_count": 2,
   "metadata": {},
   "outputs": [],
   "source": [
    "X_digits, y_digits = load_digits(return_X_y=True)"
   ]
  },
  {
   "cell_type": "code",
   "execution_count": 24,
   "metadata": {},
   "outputs": [],
   "source": [
    "from sklearn.model_selection import train_test_split\n",
    "from sklearn.linear_model import LogisticRegression\n",
    "from sklearn.cluster import KMeans\n",
    "import numpy as np"
   ]
  },
  {
   "cell_type": "code",
   "execution_count": 25,
   "metadata": {},
   "outputs": [],
   "source": [
    "X_train, X_test, y_train, y_test = train_test_split(X_digits, y_digits)"
   ]
  },
  {
   "cell_type": "code",
   "execution_count": 26,
   "metadata": {},
   "outputs": [
    {
     "data": {
      "text/plain": [
       "LogisticRegression(max_iter=10000)"
      ]
     },
     "execution_count": 26,
     "metadata": {},
     "output_type": "execute_result"
    }
   ],
   "source": [
    "n_labeled = 50\n",
    "log_reg = LogisticRegression(max_iter=10000)\n",
    "log_reg.fit(X_train[: n_labeled], y_train[: n_labeled])"
   ]
  },
  {
   "cell_type": "code",
   "execution_count": 27,
   "metadata": {},
   "outputs": [
    {
     "data": {
      "text/plain": [
       "0.8177777777777778"
      ]
     },
     "execution_count": 27,
     "metadata": {},
     "output_type": "execute_result"
    }
   ],
   "source": [
    "log_reg.score(X_test, y_test)"
   ]
  },
  {
   "cell_type": "code",
   "execution_count": 32,
   "metadata": {},
   "outputs": [],
   "source": [
    "k = 50\n",
    "kmeans = KMeans(n_clusters=k)\n",
    "X_digits_dist = kmeans.fit_transform(X_train)\n",
    "representative_digit_idx = np.argmin(X_digits_dist, axis=0)\n",
    "X_representative_digits = X_train[representative_digit_idx]\n",
    "y_representative_digits = X_train[representative_digit_idx]"
   ]
  },
  {
   "cell_type": "code",
   "execution_count": 53,
   "metadata": {},
   "outputs": [
    {
     "data": {
      "text/plain": [
       "(1347, 50)"
      ]
     },
     "execution_count": 53,
     "metadata": {},
     "output_type": "execute_result"
    }
   ],
   "source": [
    "X_digits_dist.shape"
   ]
  },
  {
   "cell_type": "code",
   "execution_count": 54,
   "metadata": {},
   "outputs": [
    {
     "data": {
      "text/plain": [
       "array([[55.96800673, 46.12628628, 36.20124002, 40.35156148, 57.87910231,\n",
       "        46.00016802, 64.09354492, 45.44207482, 42.77311144, 50.03437594,\n",
       "        32.91275953, 48.49357758, 48.55635616, 13.40792935, 47.55018516,\n",
       "        49.3697591 , 45.50127629, 44.34113755, 60.7516575 , 45.93684547,\n",
       "        36.38039419, 47.89433836, 45.3311274 , 43.99338551, 38.74542239,\n",
       "        57.20161104, 52.25155126, 43.01105227, 56.80809215, 51.86659854,\n",
       "        54.86325119, 44.66603855, 59.03403267, 56.00263286, 44.32464228,\n",
       "        47.71585412, 29.8480527 , 48.25520633, 30.07387354, 45.05007042,\n",
       "        46.84378294, 62.20723145, 63.36243849, 51.93161101, 61.04890458,\n",
       "        52.4681694 , 38.8978789 , 43.71388328, 58.46220441, 45.08390668],\n",
       "       [42.29047699, 47.78648942, 31.57206179, 50.86093511, 52.25099956,\n",
       "        54.02153092, 38.67664024, 40.72594816, 51.16311232, 38.15582979,\n",
       "        40.37794908, 35.39696665, 26.45555128, 46.22433597, 48.20984962,\n",
       "        44.31874199, 42.16930003, 46.79736769, 48.52419213, 23.58251361,\n",
       "        37.93258372, 48.63534783, 21.83982092, 48.63170744, 45.48565266,\n",
       "        44.30414923, 38.84230438, 33.95349034, 53.28408596, 39.28287215,\n",
       "        52.51131183, 37.46404943, 47.16501619, 46.06650055, 34.01630044,\n",
       "        35.95904246, 49.9728051 , 19.67085957, 49.07897271, 24.43145394,\n",
       "        47.89300575, 50.05966854, 41.30131488, 45.50559184, 48.12451298,\n",
       "        32.0035748 , 42.95056304, 52.12601062, 52.92408126, 45.54488357]])"
      ]
     },
     "execution_count": 54,
     "metadata": {},
     "output_type": "execute_result"
    }
   ],
   "source": [
    "X_digits_dist[:2]"
   ]
  },
  {
   "cell_type": "code",
   "execution_count": 57,
   "metadata": {},
   "outputs": [
    {
     "data": {
      "text/plain": [
       "array([13, 37, 16, ..., 49, 19, 45], dtype=int32)"
      ]
     },
     "execution_count": 57,
     "metadata": {},
     "output_type": "execute_result"
    }
   ],
   "source": [
    "kmeans.labels_"
   ]
  },
  {
   "cell_type": "code",
   "execution_count": null,
   "metadata": {},
   "outputs": [],
   "source": []
  }
 ],
 "metadata": {
  "kernelspec": {
   "display_name": "Python 3",
   "language": "python",
   "name": "python3"
  },
  "language_info": {
   "codemirror_mode": {
    "name": "ipython",
    "version": 3
   },
   "file_extension": ".py",
   "mimetype": "text/x-python",
   "name": "python",
   "nbconvert_exporter": "python",
   "pygments_lexer": "ipython3",
   "version": "3.7.6"
  }
 },
 "nbformat": 4,
 "nbformat_minor": 4
}
