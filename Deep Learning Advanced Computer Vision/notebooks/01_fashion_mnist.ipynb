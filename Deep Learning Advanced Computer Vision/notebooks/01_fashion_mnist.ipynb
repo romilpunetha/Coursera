{
 "cells": [
  {
   "cell_type": "code",
   "execution_count": 1,
   "metadata": {},
   "outputs": [],
   "source": [
    "# https://deeplearningcourses.com/c/advanced-computer-vision\n",
    "# https://www.udemy.com/advanced-computer-vision\n",
    "from __future__ import print_function, division\n",
    "from builtins import range\n",
    "# Note: you may need to update your version of future\n",
    "# sudo pip install -U future\n",
    "\n"
   ]
  },
  {
   "cell_type": "code",
   "execution_count": 2,
   "metadata": {},
   "outputs": [
    {
     "name": "stderr",
     "output_type": "stream",
     "text": [
      "Using TensorFlow backend.\n"
     ]
    }
   ],
   "source": [
    "from tensorflow import keras\n",
    "from keras.models import Sequential, Model\n",
    "from keras.layers import Dense, Activation, Conv2D, MaxPooling2D, Flatten, Dropout, BatchNormalization, Input\n",
    "\n",
    "import matplotlib.pyplot as plt\n",
    "import pandas as pd\n",
    "import numpy as np"
   ]
  },
  {
   "cell_type": "code",
   "execution_count": 3,
   "metadata": {},
   "outputs": [],
   "source": [
    "# helper\n",
    "def y2indicator(Y):\n",
    "  N = len(Y)\n",
    "  K = len(set(Y))\n",
    "  I = np.zeros((N, K))\n",
    "  I[np.arange(N), Y] = 1\n",
    "  return I\n",
    "\n"
   ]
  },
  {
   "cell_type": "code",
   "execution_count": 4,
   "metadata": {},
   "outputs": [],
   "source": [
    "# get the data\n",
    "# https://www.kaggle.com/zalando-research/fashionmnist\n",
    "data = pd.read_csv('../large_files/fashionmnist/fashion-mnist_train.csv')\n",
    "data = data.values\n",
    "np.random.shuffle(data)\n",
    "\n",
    "X = data[:, 1:].reshape(-1, 28, 28, 1) / 255.0\n",
    "Y = data[:, 0].astype(np.int32)\n",
    "\n",
    "# get shapes\n",
    "# N = len(Y)\n",
    "K = len(set(Y))\n",
    "\n",
    "# by default Keras wants one-hot encoded labels\n",
    "# there's another cost function we can use\n",
    "# where we can just pass in the integer labels directly\n",
    "# just like Tensorflow / Theano\n",
    "Y = y2indicator(Y)\n",
    "\n",
    "\n",
    "\n",
    "\n",
    "# make the CNN\n",
    "i = Input(shape=(28, 28, 1))\n",
    "x = Conv2D(filters=32, kernel_size=(3, 3))(i)\n",
    "x = BatchNormalization()(x)\n",
    "x = Activation('relu')(x)\n",
    "x = MaxPooling2D()(x)\n",
    "\n",
    "x = Conv2D(filters=64, kernel_size=(3, 3))(x)\n",
    "x = BatchNormalization()(x)\n",
    "x = Activation('relu')(x)\n",
    "x = MaxPooling2D()(x)\n",
    "\n",
    "x = Flatten()(x)\n",
    "x = Dense(units=100)(x)\n",
    "x = Activation('relu')(x)\n",
    "x = Dropout(0.3)(x)\n",
    "x = Dense(units=K)(x)\n",
    "x = Activation('softmax')(x)\n",
    "\n"
   ]
  },
  {
   "cell_type": "code",
   "execution_count": 30,
   "metadata": {},
   "outputs": [],
   "source": [
    "model = Model(inputs=i, outputs=x)\n",
    "\n",
    "\n",
    "# list of losses: https://keras.io/losses/\n",
    "# list of optimizers: https://keras.io/optimizers/\n",
    "# list of metrics: https://keras.io/metrics/\n",
    "model.compile(\n",
    "  loss='categorical_crossentropy',\n",
    "  optimizer='adam',\n",
    "  metrics=['accuracy']\n",
    ")\n",
    "\n",
    "# note: multiple ways to choose a backend\n",
    "# either theano, tensorflow, or cntk\n",
    "# https://keras.io/backend/\n"
   ]
  },
  {
   "cell_type": "code",
   "execution_count": 31,
   "metadata": {},
   "outputs": [
    {
     "name": "stdout",
     "output_type": "stream",
     "text": [
      "Train on 40199 samples, validate on 19801 samples\n",
      "Epoch 1/15\n",
      "40199/40199 [==============================] - 34s 851us/step - loss: 0.5386 - accuracy: 0.8066 - val_loss: 0.3629 - val_accuracy: 0.8714\n",
      "Epoch 2/15\n",
      "40199/40199 [==============================] - 35s 869us/step - loss: 0.3814 - accuracy: 0.8638 - val_loss: 0.3155 - val_accuracy: 0.8872\n",
      "Epoch 3/15\n",
      "40199/40199 [==============================] - 34s 841us/step - loss: 0.3378 - accuracy: 0.8770 - val_loss: 0.2971 - val_accuracy: 0.8910\n",
      "Epoch 4/15\n",
      "40199/40199 [==============================] - 40s 985us/step - loss: 0.3103 - accuracy: 0.8896 - val_loss: 0.2794 - val_accuracy: 0.8993\n",
      "Epoch 5/15\n",
      "40199/40199 [==============================] - 50s 1ms/step - loss: 0.2905 - accuracy: 0.8946 - val_loss: 0.2694 - val_accuracy: 0.9019\n",
      "Epoch 6/15\n",
      "40199/40199 [==============================] - 44s 1ms/step - loss: 0.2762 - accuracy: 0.8985 - val_loss: 0.2894 - val_accuracy: 0.8942\n",
      "Epoch 7/15\n",
      "40199/40199 [==============================] - 43s 1ms/step - loss: 0.2609 - accuracy: 0.9057 - val_loss: 0.2681 - val_accuracy: 0.9040\n",
      "Epoch 8/15\n",
      "40199/40199 [==============================] - 47s 1ms/step - loss: 0.2472 - accuracy: 0.9085 - val_loss: 0.2868 - val_accuracy: 0.8959\n",
      "Epoch 9/15\n",
      "40199/40199 [==============================] - 53s 1ms/step - loss: 0.2367 - accuracy: 0.9128 - val_loss: 0.2532 - val_accuracy: 0.9100\n",
      "Epoch 10/15\n",
      "40199/40199 [==============================] - 46s 1ms/step - loss: 0.2238 - accuracy: 0.9164 - val_loss: 0.2670 - val_accuracy: 0.9081\n",
      "Epoch 11/15\n",
      "40199/40199 [==============================] - 47s 1ms/step - loss: 0.2181 - accuracy: 0.9191 - val_loss: 0.2532 - val_accuracy: 0.9111\n",
      "Epoch 12/15\n",
      "40199/40199 [==============================] - 49s 1ms/step - loss: 0.2057 - accuracy: 0.9242 - val_loss: 0.2765 - val_accuracy: 0.9041\n",
      "Epoch 13/15\n",
      "40199/40199 [==============================] - 46s 1ms/step - loss: 0.1963 - accuracy: 0.9271 - val_loss: 0.2526 - val_accuracy: 0.9090\n",
      "Epoch 14/15\n",
      "40199/40199 [==============================] - 50s 1ms/step - loss: 0.1925 - accuracy: 0.9292 - val_loss: 0.2539 - val_accuracy: 0.9107\n",
      "Epoch 15/15\n",
      "40199/40199 [==============================] - 52s 1ms/step - loss: 0.1834 - accuracy: 0.9310 - val_loss: 0.3144 - val_accuracy: 0.8917\n",
      "Returned: <keras.callbacks.callbacks.History object at 0x7ff0359f8610>\n",
      "dict_keys(['val_loss', 'val_accuracy', 'loss', 'accuracy'])\n"
     ]
    }
   ],
   "source": [
    "# gives us back a <keras.callbacks.History object at 0x112e61a90>\n",
    "r = model.fit(X, Y, validation_split=0.33, epochs=15, batch_size=32)\n",
    "print(\"Returned:\", r)\n",
    "\n",
    "# print the available keys\n",
    "# should see: dict_keys(['val_loss', 'acc', 'loss', 'val_acc'])\n",
    "print(r.history.keys())\n",
    "\n"
   ]
  },
  {
   "cell_type": "code",
   "execution_count": 32,
   "metadata": {},
   "outputs": [
    {
     "data": {
      "image/png": "[encoded data removed]",
      "text/plain": [
       "<Figure size 432x288 with 1 Axes>"
      ]
     },
     "metadata": {
      "needs_background": "light"
     },
     "output_type": "display_data"
    },
    {
     "data": {
      "image/png": "[encoded data removed]",
      "text/plain": [
       "<Figure size 432x288 with 1 Axes>"
      ]
     },
     "metadata": {
      "needs_background": "light"
     },
     "output_type": "display_data"
    }
   ],
   "source": [
    "# plot some data\n",
    "plt.plot(r.history['loss'], label='loss')\n",
    "plt.plot(r.history['val_loss'], label='val_loss')\n",
    "plt.legend()\n",
    "plt.show()\n",
    "\n",
    "# accuracies\n",
    "plt.plot(r.history['accuracy'], label='acc')\n",
    "plt.plot(r.history['val_accuracy'], label='val_acc')\n",
    "plt.legend()\n",
    "plt.show()\n"
   ]
  },
  {
   "cell_type": "code",
   "execution_count": null,
   "metadata": {},
   "outputs": [],
   "source": []
  }
 ],
 "metadata": {
  "kernelspec": {
   "display_name": "Python 3",
   "language": "python",
   "name": "python3"
  },
  "language_info": {
   "codemirror_mode": {
    "name": "ipython",
    "version": 3
   },
   "file_extension": ".py",
   "mimetype": "text/x-python",
   "name": "python",
   "nbconvert_exporter": "python",
   "pygments_lexer": "ipython3",
   "version": "3.7.6"
  }
 },
 "nbformat": 4,
 "nbformat_minor": 4
}
